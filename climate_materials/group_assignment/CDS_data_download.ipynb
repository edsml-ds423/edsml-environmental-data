{
 "cells": [
  {
   "cell_type": "markdown",
   "metadata": {},
   "source": [
    "### Download data from CDS API (using cdsapi)"
   ]
  },
  {
   "cell_type": "code",
   "execution_count": null,
   "metadata": {},
   "outputs": [],
   "source": [
    "import os \n",
    "import cdsapi\n",
    "from tqdm import tqdm\n",
    "import ftplib"
   ]
  },
  {
   "cell_type": "code",
   "execution_count": 52,
   "metadata": {},
   "outputs": [
    {
     "data": {
      "text/plain": [
       "True"
      ]
     },
     "execution_count": 52,
     "metadata": {},
     "output_type": "execute_result"
    }
   ],
   "source": [
    "GET = True\n",
    "\n",
    "GET"
   ]
  },
  {
   "cell_type": "markdown",
   "metadata": {},
   "source": [
    "### ERA5 Retrieval:"
   ]
  },
  {
   "cell_type": "code",
   "execution_count": 49,
   "metadata": {},
   "outputs": [
    {
     "name": "stderr",
     "output_type": "stream",
     "text": [
      "2024-01-24 16:51:57,764 DEBUG CDSAPI {'url': 'https://cds.climate.copernicus.eu/api/v2', 'key': '282395:e366913f-c0d6-42e5-9ca9-0eb54524d343', 'quiet': False, 'verify': True, 'timeout': 60, 'progress': True, 'sleep_max': 120, 'retry_max': 500, 'full_stack': True, 'delete': True, 'metadata': None, 'forget': False}\n"
     ]
    },
    {
     "name": "stdout",
     "output_type": "stream",
     "text": [
      "\n",
      "\n",
      "******************************************************************************************\n",
      "Instantiated cdsapi.Client() object...\n",
      "\n",
      "Getting monthly_averaged_reanalysis data from reanalysis-era5-single-levels-monthly-means\n",
      "\n",
      "Data time period: 1980 - 2023.\n",
      "\n",
      "Variables:\n",
      "\t > 10m_u_component_of_wind\n",
      "\t > 10m_v_component_of_wind\n",
      "\t > 2m_temperature\n",
      "\t > total_precipitation\n",
      "Extracting Area: \n",
      "\t - North: 60.57\n",
      "\t - West: -12.61\n",
      "\t - South: 48.83\n",
      "\t - East: 4.59\n",
      "Grid Resolution = [0.1, 0.1] degrees (latitude, longitude)\n",
      "\n",
      "Saving data as .nc file to test.nc\n",
      "******************************************************************************************\n",
      "\n",
      "\n",
      "!!! GET set to False. Set to True if you want to retreive data from the CDS api !!!\n"
     ]
    }
   ],
   "source": [
    "# data config / inputs\n",
    "start = 1980\n",
    "end = 2023\n",
    "\n",
    "output_filename = 'test.nc'\n",
    "\n",
    "product_name = 'reanalysis-era5-single-levels-monthly-means'\n",
    "product_name_type = 'monthly_averaged_reanalysis'\n",
    "variables = ['10m_u_component_of_wind', \n",
    "             '10m_v_component_of_wind',\n",
    "             '2m_temperature',\n",
    "             'total_precipitation']\n",
    "\n",
    "area_to_extract = [60.57, -12.61, 48.83, 4.59]\n",
    "grid_resolution = [0.1, 0.1]\n",
    "\n",
    "\n",
    "request = {\n",
    "        'product_type': product_name_type,\n",
    "        'variable': variables,\n",
    "        'year': [str(year) for year in range(start, end + 1)],\n",
    "        'month': [f'{i:02}' for i in range(1, 13)],\n",
    "        'time': '00:00', #[f'{i:02}:00' for i in range(24)],\n",
    "        'format': 'netcdf',\n",
    "        'area': area_to_extract,\n",
    "        'grid': grid_resolution, \n",
    "    }\n",
    "\n",
    "# instantiate the api object \n",
    "c = cdsapi.Client(debug=True, full_stack=True)\n",
    "\n",
    "print(\"\\n\\n******************************************************************************************\")\n",
    "print('Instantiated cdsapi.Client() object...\\n')\n",
    "print(f\"Getting {product_name_type} data from {product_name}\\n\")\n",
    "print(f\"Data time period: {start} - {end}.\\n\")\n",
    "print(\"Variables:\")\n",
    "[print(f\"\\t > {v}\") for v in variables]\n",
    "print(f\"Extracting Area: \\n\\t - North: {area_to_extract[0]}\\n\\t - West: {area_to_extract[1]}\\n\\t - South: {area_to_extract[2]}\\n\\t - East: {area_to_extract[3]}\")  #[North, West, South, East]\n",
    "print(f\"Grid Resolution = {grid_resolution} degrees (latitude, longitude)\\n\")\n",
    "print(f\"Saving data as .nc file to {output_filename}\")\n",
    "print(\"******************************************************************************************\\n\\n\")\n",
    "\n",
    "if GET:\n",
    "    c.retrieve(\n",
    "        name=product_name,\n",
    "        request=request,\n",
    "        target=output_filename\n",
    "        )\n",
    "else:\n",
    "    print(f\"!!! GET set to False. Set to True if you want to retreive data from the CDS api !!!\")"
   ]
  },
  {
   "cell_type": "markdown",
   "metadata": {},
   "source": [
    "### CMIP Retrieval:"
   ]
  },
  {
   "cell_type": "code",
   "execution_count": 54,
   "metadata": {},
   "outputs": [
    {
     "name": "stderr",
     "output_type": "stream",
     "text": [
      "2024-01-24 17:04:20,028 DEBUG CDSAPI {'url': 'https://cds.climate.copernicus.eu/api/v2', 'key': '282395:e366913f-c0d6-42e5-9ca9-0eb54524d343', 'quiet': False, 'verify': True, 'timeout': 60, 'progress': True, 'sleep_max': 120, 'retry_max': 500, 'full_stack': True, 'delete': True, 'metadata': None, 'forget': False}\n"
     ]
    }
   ],
   "source": [
    "# instantiate the api object \n",
    "c = cdsapi.Client(debug=True, full_stack=True)"
   ]
  },
  {
   "cell_type": "code",
   "execution_count": 58,
   "metadata": {},
   "outputs": [
    {
     "name": "stdout",
     "output_type": "stream",
     "text": [
      "\n",
      "\n",
      "******************************************************************************************\n",
      "Instantiated cdsapi.Client() object...\n",
      "\n",
      "Getting hadgem3_gc31_ll data from projections-cmip6\n",
      "\n",
      "Data time period: 2016-01-01 - 2100-12-31.\n",
      "\n",
      "Variables:\n",
      "\t > near_surface_air_temperature\n",
      "Saving data as .nc file to ../downloads/CMIP6_monthly_future.zip\n",
      "******************************************************************************************\n",
      "\n",
      "\n"
     ]
    },
    {
     "name": "stderr",
     "output_type": "stream",
     "text": [
      "2024-01-25 09:22:01,564 INFO Welcome to the CDS\n",
      "2024-01-25 09:22:01,564 INFO Sending request to https://cds.climate.copernicus.eu/api/v2/resources/projections-cmip6\n",
      "2024-01-25 09:22:01,564 DEBUG POST https://cds.climate.copernicus.eu/api/v2/resources/projections-cmip6 {\"format\": \"zip\", \"temporal_resolution\": \"monthly\", \"experiment\": \"ssp5_8_5\", \"level\": \"single_levels\", \"variable\": [\"near_surface_air_temperature\"], \"model\": \"hadgem3_gc31_ll\", \"date\": \"2016-01-01/2100-12-31\"}\n",
      "2024-01-25 09:22:01,769 DEBUG REPLY {'state': 'queued', 'request_id': 'd4910fd9-9c8f-47a5-ac69-20e9d58269f1', 'specific_metadata_json': {'top_request_origin': 'api'}}\n",
      "2024-01-25 09:22:01,770 INFO Request is queued\n",
      "2024-01-25 09:22:01,770 DEBUG Request ID is d4910fd9-9c8f-47a5-ac69-20e9d58269f1, sleep 1\n",
      "2024-01-25 09:22:02,776 DEBUG GET https://cds.climate.copernicus.eu/api/v2/tasks/d4910fd9-9c8f-47a5-ac69-20e9d58269f1\n",
      "2024-01-25 09:22:02,884 DEBUG REPLY {'state': 'running', 'request_id': 'd4910fd9-9c8f-47a5-ac69-20e9d58269f1', 'sent_to_rmq_at': '2024-01-25T09:22:01.912Z', 'specific_metadata_json': {'top_request_origin': 'api'}}\n",
      "2024-01-25 09:22:02,885 INFO Request is running\n",
      "2024-01-25 09:22:02,885 DEBUG Request ID is d4910fd9-9c8f-47a5-ac69-20e9d58269f1, sleep 1.5\n",
      "2024-01-25 09:22:04,387 DEBUG GET https://cds.climate.copernicus.eu/api/v2/tasks/d4910fd9-9c8f-47a5-ac69-20e9d58269f1\n",
      "2024-01-25 09:22:04,446 DEBUG REPLY {'state': 'running', 'request_id': 'd4910fd9-9c8f-47a5-ac69-20e9d58269f1', 'sent_to_rmq_at': '2024-01-25T09:22:01.912Z', 'specific_metadata_json': {'top_request_origin': 'api'}}\n",
      "2024-01-25 09:22:04,447 DEBUG Request ID is d4910fd9-9c8f-47a5-ac69-20e9d58269f1, sleep 2.25\n",
      "2024-01-25 09:22:06,698 DEBUG GET https://cds.climate.copernicus.eu/api/v2/tasks/d4910fd9-9c8f-47a5-ac69-20e9d58269f1\n",
      "2024-01-25 09:22:06,814 DEBUG REPLY {'state': 'running', 'request_id': 'd4910fd9-9c8f-47a5-ac69-20e9d58269f1', 'sent_to_rmq_at': '2024-01-25T09:22:01.912Z', 'specific_metadata_json': {'top_request_origin': 'api'}}\n",
      "2024-01-25 09:22:06,815 DEBUG Request ID is d4910fd9-9c8f-47a5-ac69-20e9d58269f1, sleep 3.375\n",
      "2024-01-25 09:22:10,195 DEBUG GET https://cds.climate.copernicus.eu/api/v2/tasks/d4910fd9-9c8f-47a5-ac69-20e9d58269f1\n",
      "2024-01-25 09:22:10,321 DEBUG REPLY {'state': 'running', 'request_id': 'd4910fd9-9c8f-47a5-ac69-20e9d58269f1', 'sent_to_rmq_at': '2024-01-25T09:22:01.912Z', 'specific_metadata_json': {'top_request_origin': 'api'}}\n",
      "2024-01-25 09:22:10,322 DEBUG Request ID is d4910fd9-9c8f-47a5-ac69-20e9d58269f1, sleep 5.0625\n",
      "2024-01-25 09:22:15,390 DEBUG GET https://cds.climate.copernicus.eu/api/v2/tasks/d4910fd9-9c8f-47a5-ac69-20e9d58269f1\n",
      "2024-01-25 09:22:15,856 DEBUG REPLY {'state': 'running', 'request_id': 'd4910fd9-9c8f-47a5-ac69-20e9d58269f1', 'sent_to_rmq_at': '2024-01-25T09:22:01.912Z', 'specific_metadata_json': {'top_request_origin': 'api'}}\n",
      "2024-01-25 09:22:15,857 DEBUG Request ID is d4910fd9-9c8f-47a5-ac69-20e9d58269f1, sleep 7.59375\n",
      "2024-01-25 09:22:23,456 DEBUG GET https://cds.climate.copernicus.eu/api/v2/tasks/d4910fd9-9c8f-47a5-ac69-20e9d58269f1\n",
      "2024-01-25 09:22:23,596 DEBUG REPLY {'state': 'completed', 'request_id': 'd4910fd9-9c8f-47a5-ac69-20e9d58269f1', 'location': 'https://download-0017.copernicus-climate.eu/cache-compute-0017/cache/data7/adaptor.esgf_wps.retrieve-1706174535.9397373-19678-3-d4910fd9-9c8f-47a5-ac69-20e9d58269f1.zip', 'content_length': 55095110, 'content_type': 'application/zip', 'sent_to_rmq_at': '2024-01-25T09:22:01.912Z', 'specific_metadata_json': {'top_request_origin': 'api'}}\n",
      "2024-01-25 09:22:23,598 INFO Request is completed\n",
      "2024-01-25 09:22:23,599 DEBUG Done\n",
      "2024-01-25 09:22:23,599 INFO Downloading https://download-0017.copernicus-climate.eu/cache-compute-0017/cache/data7/adaptor.esgf_wps.retrieve-1706174535.9397373-19678-3-d4910fd9-9c8f-47a5-ac69-20e9d58269f1.zip to ../downloads/CMIP6_monthly_future.zip (52.5M)\n",
      "2024-01-25 09:22:52,152 INFO Download rate 1.8M/s   \n",
      "2024-01-25 09:22:52,152 DEBUG DELETE https://cds.climate.copernicus.eu/api/v2/tasks/d4910fd9-9c8f-47a5-ac69-20e9d58269f1\n",
      "2024-01-25 09:22:52,193 DEBUG DELETE returns 204 \n"
     ]
    }
   ],
   "source": [
    "# https://cds.climate.copernicus.eu/cdsapp#!/dataset/projections-cmip6?tab=form\n",
    "# https://confluence.ecmwf.int/display/CUSF/CMIP5+%28RCP4.5+and+8.5+GFDL-ESM2G%29+U+and+V+at+850+mb\n",
    "\n",
    "# MAX date for hadgem3_gc31_ll historical monthly is 2014\n",
    "\n",
    "# data config / inputs\n",
    "output_filename = '../downloads/CMIP6_monthly_future.zip'\n",
    "\n",
    "start = '2016-01-01'\n",
    "end = '2100-12-31'\n",
    "product_name = 'projections-cmip6'\n",
    "product_name_type = 'hadgem3_gc31_ll'\n",
    "experiment = 'ssp5_8_5'\n",
    "resolution = 'monthly'\n",
    "\n",
    "variables = ['near_surface_air_temperature']\n",
    "request = {\n",
    "        'format': 'zip',\n",
    "        'temporal_resolution': resolution,\n",
    "        'experiment': experiment,\n",
    "        'level': 'single_levels',\n",
    "        'variable': variables,\n",
    "        'model': product_name_type,\n",
    "        'date': f'{start}/{end}',\n",
    "    }\n",
    "\n",
    "print(\"\\n\\n******************************************************************************************\")\n",
    "print('Instantiated cdsapi.Client() object...\\n')\n",
    "print(f\"Getting {product_name_type} data from {product_name}\\n\")\n",
    "print(f\"Data time period: {start} - {end}.\\n\")\n",
    "print(\"Variables:\")\n",
    "[print(f\"\\t > {v}\") for v in variables]\n",
    "print(f\"Saving data as .nc file to {output_filename}\")\n",
    "print(\"******************************************************************************************\\n\\n\")\n",
    "\n",
    "if GET:\n",
    "    c.retrieve(\n",
    "        name=product_name,\n",
    "        request=request,\n",
    "        target=output_filename\n",
    "        )\n",
    "else:\n",
    "    print(f\"!!! GET set to False. Set to True if you want to retreive data from the CDS api !!!\")"
   ]
  },
  {
   "cell_type": "markdown",
   "metadata": {},
   "source": [
    "### UKCP18 Retrieval:"
   ]
  },
  {
   "cell_type": "code",
   "execution_count": 96,
   "metadata": {},
   "outputs": [
    {
     "name": "stdout",
     "output_type": "stream",
     "text": [
      "Logged in successfully.\n",
      "tas starting download...\n"
     ]
    },
    {
     "name": "stderr",
     "output_type": "stream",
     "text": [
      "100%|██████████| 100/100 [05:10<00:00,  3.11s/it]\n"
     ]
    }
   ],
   "source": [
    "# login to FTP\n",
    "f = ftplib.FTP(\"ftp.ceda.ac.uk\", \"bpg23\", \"DiFFbMn0i-=j\")\n",
    "print(\"Logged in successfully.\")\n",
    "\n",
    "var = \"tas\"\n",
    "time = \"mon\"\n",
    "\n",
    "dir = f\"../downloads/UKCP18/\"\n",
    "retreival_dir = f\"/badc/ukcp18/data/land-cpm/uk/2.2km/rcp85/01/{var}/{time}/v20210615/\"\n",
    "\n",
    "# If directory doesn't exist make it\n",
    "if not os.path.isdir(dir): os.makedirs(dir)\n",
    "\n",
    "f.cwd(retreival_dir)\n",
    "dirs = f.nlst()\n",
    "\n",
    "print(f\"{var} starting download...\")\n",
    "for file in tqdm(dirs):\n",
    "    filename = file.split('/')[-1]\n",
    "    f.retrbinary(\"RETR %s\" % filename, open(f\"{dir}/{filename}\", \"wb\").write)\n",
    "\n",
    "f.close()"
   ]
  },
  {
   "cell_type": "markdown",
   "metadata": {},
   "source": [
    "### END OF SCRIPT"
   ]
  }
 ],
 "metadata": {
  "kernelspec": {
   "display_name": "e-data",
   "language": "python",
   "name": "python3"
  },
  "language_info": {
   "codemirror_mode": {
    "name": "ipython",
    "version": 3
   },
   "file_extension": ".py",
   "mimetype": "text/x-python",
   "name": "python",
   "nbconvert_exporter": "python",
   "pygments_lexer": "ipython3",
   "version": "3.11.5"
  }
 },
 "nbformat": 4,
 "nbformat_minor": 2
}
